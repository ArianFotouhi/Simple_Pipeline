{
 "cells": [
  {
   "cell_type": "markdown",
   "id": "2e364a49-113d-404a-a7ef-b6d67069e6be",
   "metadata": {},
   "source": [
    "## Import Libraries"
   ]
  },
  {
   "cell_type": "code",
   "execution_count": null,
   "id": "6697d4be-c572-4bb6-8ee3-935b0d490c0c",
   "metadata": {},
   "outputs": [],
   "source": [
    "import torch\n",
    "import torch.nn as nn\n",
    "import torch.optim as optim\n",
    "import pandas as pd\n",
    "from sklearn.preprocessing import MinMaxScaler"
   ]
  },
  {
   "cell_type": "markdown",
   "id": "dde3e9dc-3037-4e81-b10b-bd297f665a85",
   "metadata": {},
   "source": [
    "## Load data"
   ]
  },
  {
   "cell_type": "code",
   "execution_count": null,
   "id": "61c312c7-db48-4e03-97c0-38b282b807df",
   "metadata": {},
   "outputs": [],
   "source": [
    "data = pd.read_csv(\"myfile.csv\")"
   ]
  },
  {
   "cell_type": "markdown",
   "id": "da990b81-3e96-43be-b8ac-e58d4ef1bc81",
   "metadata": {},
   "source": [
    "## Preprocessing"
   ]
  },
  {
   "cell_type": "markdown",
   "id": "1255811a-fd23-4a11-a939-2faaffcd1559",
   "metadata": {},
   "source": [
    "#### Normalize"
   ]
  },
  {
   "cell_type": "code",
   "execution_count": null,
   "id": "acef13ac-0fc2-45ed-baf3-525004ee6002",
   "metadata": {},
   "outputs": [],
   "source": [
    "scaler = MinMaxScaler(feature_range=(-1, 1))\n",
    "data_scaled = scaler.fit_transform(data)"
   ]
  },
  {
   "cell_type": "markdown",
   "id": "685be83f-2c2e-4072-9399-92df665fb5a3",
   "metadata": {},
   "source": [
    "#### Convert the data to PyTorch tensors"
   ]
  },
  {
   "cell_type": "code",
   "execution_count": null,
   "id": "6904f00e-ee53-4ea7-bc4e-579879e4d3f2",
   "metadata": {},
   "outputs": [],
   "source": [
    "data_tensor = torch.Tensor(data_scaled)"
   ]
  },
  {
   "cell_type": "markdown",
   "id": "b83b22bc-e8d7-4e88-84c4-755bcc6f6378",
   "metadata": {},
   "source": [
    "## Model Initialization"
   ]
  },
  {
   "cell_type": "code",
   "execution_count": null,
   "id": "5d61255e-1b27-4f17-9241-5009436dea52",
   "metadata": {},
   "outputs": [],
   "source": [
    "class LSTM(nn.Module):\n",
    "    def __init__(self, input_size, hidden_size, output_size):\n",
    "        super(LSTM, self).__init__()\n",
    "        self.hidden_size = hidden_size\n",
    "        self.lstm = nn.LSTM(input_size, hidden_size)\n",
    "        self.linear = nn.Linear(hidden_size, output_size)\n",
    "    \n",
    "    def forward(self, input):\n",
    "        lstm_out, _ = self.lstm(input.view(len(input), 1, -1))\n",
    "        output = self.linear(lstm_out.view(len(input), -1))\n",
    "        return output[-1]"
   ]
  },
  {
   "cell_type": "code",
   "execution_count": null,
   "id": "88cc1edf-99b3-4b8a-ba6d-9351b72cc7e1",
   "metadata": {},
   "outputs": [],
   "source": [
    "input_size = len(data.columns) - 1  # Number of input features (excluding the target)\n",
    "hidden_size = 32  # Number of hidden units in the LSTM layer\n",
    "output_size = 1  # Number of output predictions (1 for predicting stock price)"
   ]
  }
 ],
 "metadata": {
  "kernelspec": {
   "display_name": "Python 3 (ipykernel)",
   "language": "python",
   "name": "python3"
  },
  "language_info": {
   "codemirror_mode": {
    "name": "ipython",
    "version": 3
   },
   "file_extension": ".py",
   "mimetype": "text/x-python",
   "name": "python",
   "nbconvert_exporter": "python",
   "pygments_lexer": "ipython3",
   "version": "3.10.10"
  }
 },
 "nbformat": 4,
 "nbformat_minor": 5
}
