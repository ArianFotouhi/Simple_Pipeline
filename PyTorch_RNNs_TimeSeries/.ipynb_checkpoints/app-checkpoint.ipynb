{
 "cells": [
  {
   "cell_type": "markdown",
   "id": "2e364a49-113d-404a-a7ef-b6d67069e6be",
   "metadata": {},
   "source": [
    "## Import Libraries"
   ]
  },
  {
   "cell_type": "code",
   "execution_count": null,
   "id": "6697d4be-c572-4bb6-8ee3-935b0d490c0c",
   "metadata": {},
   "outputs": [],
   "source": [
    "import torch\n",
    "import torch.nn as nn\n",
    "import torch.optim as optim\n",
    "import pandas as pd\n",
    "from sklearn.preprocessing import MinMaxScaler"
   ]
  },
  {
   "cell_type": "markdown",
   "id": "dde3e9dc-3037-4e81-b10b-bd297f665a85",
   "metadata": {},
   "source": [
    "## Load data"
   ]
  },
  {
   "cell_type": "code",
   "execution_count": null,
   "id": "61c312c7-db48-4e03-97c0-38b282b807df",
   "metadata": {},
   "outputs": [],
   "source": [
    "data = pd.read_csv(\"myfile.csv\")"
   ]
  },
  {
   "cell_type": "markdown",
   "id": "da990b81-3e96-43be-b8ac-e58d4ef1bc81",
   "metadata": {},
   "source": [
    "## Preprocessing"
   ]
  },
  {
   "cell_type": "markdown",
   "id": "1255811a-fd23-4a11-a939-2faaffcd1559",
   "metadata": {},
   "source": [
    "#### Normalize"
   ]
  },
  {
   "cell_type": "code",
   "execution_count": null,
   "id": "acef13ac-0fc2-45ed-baf3-525004ee6002",
   "metadata": {},
   "outputs": [],
   "source": [
    "scaler = MinMaxScaler(feature_range=(-1, 1))\n",
    "data_scaled = scaler.fit_transform(data)"
   ]
  },
  {
   "cell_type": "markdown",
   "id": "685be83f-2c2e-4072-9399-92df665fb5a3",
   "metadata": {},
   "source": [
    "#### Convert the data to PyTorch tensors"
   ]
  },
  {
   "cell_type": "code",
   "execution_count": null,
   "id": "6904f00e-ee53-4ea7-bc4e-579879e4d3f2",
   "metadata": {},
   "outputs": [],
   "source": [
    "data_tensor = torch.Tensor(data_scaled)"
   ]
  },
  {
   "cell_type": "markdown",
   "id": "b83b22bc-e8d7-4e88-84c4-755bcc6f6378",
   "metadata": {},
   "source": [
    "## Model Initialization"
   ]
  },
  {
   "cell_type": "code",
   "execution_count": null,
   "id": "5d61255e-1b27-4f17-9241-5009436dea52",
   "metadata": {},
   "outputs": [],
   "source": [
    "class LSTM(nn.Module):\n",
    "    def __init__(self, input_size, hidden_size, output_size):\n",
    "        super(LSTM, self).__init__()\n",
    "        self.hidden_size = hidden_size\n",
    "        self.lstm = nn.LSTM(input_size, hidden_size)\n",
    "        self.linear = nn.Linear(hidden_size, output_size)\n",
    "    \n",
    "    def forward(self, input):\n",
    "        lstm_out, _ = self.lstm(input.view(len(input), 1, -1))\n",
    "        output = self.linear(lstm_out.view(len(input), -1))\n",
    "        return output[-1]"
   ]
  },
  {
   "cell_type": "code",
   "execution_count": null,
   "id": "88cc1edf-99b3-4b8a-ba6d-9351b72cc7e1",
   "metadata": {},
   "outputs": [],
   "source": [
    "input_size = len(data.columns) - 1  # Number of input features (excluding the target)\n",
    "hidden_size = 32  # Number of hidden units in the LSTM layer\n",
    "output_size = 1  # Number of output predictions (1 for predicting stock price)"
   ]
  },
  {
   "cell_type": "markdown",
   "id": "d8d3bc79-6d3a-45ab-80eb-7af11772d9d2",
   "metadata": {},
   "source": [
    "## Training"
   ]
  },
  {
   "cell_type": "markdown",
   "id": "17ec065f-221d-4e6e-9539-9d990cd24b67",
   "metadata": {
    "tags": []
   },
   "source": [
    "#### Loss "
   ]
  },
  {
   "cell_type": "code",
   "execution_count": null,
   "id": "4fdf346b-0c17-4db8-a896-7cea4b3268ae",
   "metadata": {},
   "outputs": [],
   "source": [
    "criterion = nn.MSELoss()"
   ]
  },
  {
   "cell_type": "markdown",
   "id": "f146b543-2f31-4c2a-a15c-faffb88683a6",
   "metadata": {
    "tags": []
   },
   "source": [
    "#### Optimizer"
   ]
  },
  {
   "cell_type": "code",
   "execution_count": null,
   "id": "ff1bd9b2-fdbf-40a4-b76f-375228e23361",
   "metadata": {},
   "outputs": [],
   "source": [
    "optimizer = optim.Adam(model.parameters(), lr=0.001)"
   ]
  },
  {
   "cell_type": "markdown",
   "id": "6902172d-d43f-416c-b265-abec672c71f5",
   "metadata": {
    "tags": []
   },
   "source": [
    "#### Split Data into train and test (below number is just an example)"
   ]
  },
  {
   "cell_type": "code",
   "execution_count": null,
   "id": "9f0b406e-1de2-4f40-979a-4a4280dacf45",
   "metadata": {},
   "outputs": [],
   "source": [
    "train_data = data_tensor[:200]\n",
    "test_data = data_tensor[200:]"
   ]
  },
  {
   "cell_type": "markdown",
   "id": "aa6453ab-f0e5-4a1c-afad-de3e02d1f527",
   "metadata": {
    "tags": []
   },
   "source": [
    "#### Training loop"
   ]
  },
  {
   "cell_type": "code",
   "execution_count": null,
   "id": "de22a9cd-7a2f-46fd-8dd5-093a99493a5f",
   "metadata": {},
   "outputs": [],
   "source": [
    "num_epochs = 100\n",
    "for epoch in range(num_epochs):\n",
    "    model.train()\n",
    "    optimizer.zero_grad()\n",
    "    \n",
    "    # Forward pass\n",
    "    train_outputs = model(train_data[:-1])\n",
    "    train_labels = train_data[1:, 0]  # Assuming the target variable is in the first column\n",
    "    loss = criterion(train_outputs, train_labels)\n",
    "    \n",
    "    # Backward pass and optimization\n",
    "    loss.backward()\n",
    "    optimizer.step()\n",
    "    \n",
    "    # Print the loss for monitoring\n",
    "    print(f'Epoch [{epoch+1}/{num_epochs}], Loss: {loss.item()}')"
   ]
  },
  {
   "cell_type": "markdown",
   "id": "e9e25b75-2126-4f65-a195-efd482bd63a5",
   "metadata": {},
   "source": [
    "## Evaluate the model on the test data"
   ]
  },
  {
   "cell_type": "code",
   "execution_count": null,
   "id": "9d9b9028-f4cd-405f-b02d-ae63f0f9d967",
   "metadata": {},
   "outputs": [],
   "source": [
    "model.eval()\n",
    "test_outputs = model(test_data[:-1])\n",
    "test_labels = test_data[1:, 0]  # Assuming the target variable is in the first column\n",
    "test_loss = criterion(test_outputs, test_labels)\n",
    "\n",
    "# Denormalize the predictions and ground truth values\n",
    "test_outputs = scaler.inverse_transform(test_outputs.detach().numpy())\n",
    "test_labels = scaler.inverse_transform(test_labels.detach().numpy())\n",
    "\n",
    "# Print the test loss and the predicted stock prices\n",
    "print(f'Test Loss: {test_loss.item()}')\n",
    "print('Predicted Prices:')\n",
    "for pred in test_outputs:\n",
    "    print(pred)"
   ]
  }
 ],
 "metadata": {
  "kernelspec": {
   "display_name": "Python 3 (ipykernel)",
   "language": "python",
   "name": "python3"
  },
  "language_info": {
   "codemirror_mode": {
    "name": "ipython",
    "version": 3
   },
   "file_extension": ".py",
   "mimetype": "text/x-python",
   "name": "python",
   "nbconvert_exporter": "python",
   "pygments_lexer": "ipython3",
   "version": "3.10.10"
  }
 },
 "nbformat": 4,
 "nbformat_minor": 5
}
