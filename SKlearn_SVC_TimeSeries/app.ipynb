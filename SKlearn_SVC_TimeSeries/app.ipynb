{
 "cells": [
  {
   "cell_type": "markdown",
   "id": "c4105234-1847-477d-bcef-e2cebda638e4",
   "metadata": {},
   "source": [
    "## Import Libraries"
   ]
  },
  {
   "cell_type": "code",
   "execution_count": null,
   "id": "679f40fd-268a-4066-b844-f66bb83f7433",
   "metadata": {},
   "outputs": [],
   "source": [
    "from sklearn.model_selection import train_test_split\n",
    "from sklearn.pipeline import Pipeline\n",
    "from sklearn.preprocessing import StandardScaler\n",
    "from sklearn.svm import SVC\n",
    "import pandas as pd"
   ]
  },
  {
   "cell_type": "markdown",
   "id": "b70ae220-2ad0-4f86-af9b-8cf3732c817b",
   "metadata": {
    "tags": []
   },
   "source": [
    "## Load data"
   ]
  },
  {
   "cell_type": "code",
   "execution_count": null,
   "id": "6ab5a552-7642-42eb-93b4-a698545173f9",
   "metadata": {},
   "outputs": [],
   "source": [
    "data = pd.read_csv('data.csv')\n",
    "\n",
    "print('Missing values: ')\n",
    "print(df.isnull().sum(),'\\n')\n",
    "\n",
    "print('Categories: ',df['label'].unique(),'\\n')\n",
    "\n",
    "\n",
    "print('Rate of each category: ')\n",
    "print(df['label'].value_counts())"
   ]
  },
  {
   "cell_type": "markdown",
   "id": "9189e098-d5cb-4a00-93c6-b5ea660d534e",
   "metadata": {},
   "source": [
    "## Split into features and label"
   ]
  },
  {
   "cell_type": "code",
   "execution_count": null,
   "id": "8e8c02c8-7717-4f68-8aea-82e36ba361f2",
   "metadata": {},
   "outputs": [],
   "source": [
    "X = data.iloc[:,:-1]\n",
    "y = data.iloc[:,-1]"
   ]
  },
  {
   "cell_type": "markdown",
   "id": "7d037772-6cc4-485b-ac1b-5e95bd027cc8",
   "metadata": {},
   "source": [
    "## Split the data into training and testing sets"
   ]
  },
  {
   "cell_type": "code",
   "execution_count": null,
   "id": "056a3280-6ec9-4bdc-8835-4dacac5330a6",
   "metadata": {},
   "outputs": [],
   "source": [
    "X_train, X_test, y_train, y_test = train_test_split(X, y, test_size=0.2)"
   ]
  },
  {
   "cell_type": "markdown",
   "id": "55198667-1238-4a3a-ae23-cfcea5927973",
   "metadata": {},
   "source": [
    "## Create pipeline"
   ]
  },
  {
   "cell_type": "code",
   "execution_count": null,
   "id": "061bac73-2258-42c8-a75e-a1a644c14c2e",
   "metadata": {},
   "outputs": [],
   "source": [
    "pipeline = Pipeline([('scaler', StandardScaler()),('classifier', SVC())])"
   ]
  },
  {
   "cell_type": "markdown",
   "id": "02ac8a4e-d3d2-4243-92c8-4bce79f8f140",
   "metadata": {},
   "source": [
    "## Fit the pipeline"
   ]
  },
  {
   "cell_type": "code",
   "execution_count": null,
   "id": "7b4116db-fae1-4b1e-a55e-b9ef1afcc082",
   "metadata": {},
   "outputs": [],
   "source": [
    "pipeline.fit(X_train, y_train)"
   ]
  },
  {
   "cell_type": "markdown",
   "id": "30bcf589-0e99-411e-96ba-15a7c6598412",
   "metadata": {},
   "source": [
    "## Predictions"
   ]
  },
  {
   "cell_type": "code",
   "execution_count": null,
   "id": "3f5ff630-cd7f-4344-b3a4-b09591157fc4",
   "metadata": {},
   "outputs": [],
   "source": [
    "predictions = pipeline.predict(X_test)"
   ]
  },
  {
   "cell_type": "markdown",
   "id": "8b3e1378-c835-4abc-a2d2-141fba74df16",
   "metadata": {},
   "source": [
    "## Confusion Matrix and Results"
   ]
  },
  {
   "cell_type": "code",
   "execution_count": null,
   "id": "5019bd22-68b2-4b88-89a5-1604e643f031",
   "metadata": {},
   "outputs": [],
   "source": [
    "from sklearn import metrics\n",
    "df_conf_mat= pd.DataFrame(metrics.confusion_matrix(y_test, predictions))\n",
    "print(df_conf_mat,'\\n')\n",
    "\n",
    "clf_report = metrics.classification_report(y_test, predictions)\n",
    "print(clf_report,'\\n')\n",
    "\n",
    "acc = metrics.accuracy_score(y_test,predictions)\n",
    "print('Model accuracy: ', acc*100)"
   ]
  }
 ],
 "metadata": {
  "kernelspec": {
   "display_name": "Python 3 (ipykernel)",
   "language": "python",
   "name": "python3"
  },
  "language_info": {
   "codemirror_mode": {
    "name": "ipython",
    "version": 3
   },
   "file_extension": ".py",
   "mimetype": "text/x-python",
   "name": "python",
   "nbconvert_exporter": "python",
   "pygments_lexer": "ipython3",
   "version": "3.10.10"
  }
 },
 "nbformat": 4,
 "nbformat_minor": 5
}
