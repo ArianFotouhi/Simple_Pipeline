{
 "cells": [
  {
   "cell_type": "markdown",
   "id": "1f09dc52-c049-4365-9240-7c5b7bb5636e",
   "metadata": {},
   "source": [
    "## Import Libraries"
   ]
  },
  {
   "cell_type": "code",
   "execution_count": 1,
   "id": "d48a7e76-7b48-4a51-bc37-e23836e260ef",
   "metadata": {
    "tags": []
   },
   "outputs": [],
   "source": [
    "import pandas as pd\n",
    "from sklearn.linear_model import LinearRegression\n",
    "from sklearn.model_selection import train_test_split"
   ]
  },
  {
   "cell_type": "markdown",
   "id": "5d9123df-2b97-4f62-82b5-030f5b766138",
   "metadata": {},
   "source": [
    "## Load Data "
   ]
  },
  {
   "cell_type": "code",
   "execution_count": null,
   "id": "8705730c-becb-48a8-8cc3-9639e476913c",
   "metadata": {
    "tags": []
   },
   "outputs": [],
   "source": [
    "data = pd.read_csv(\"file.csv\", sep='t', header=None)"
   ]
  },
  {
   "cell_type": "markdown",
   "id": "a1851ff7-0509-46c2-9557-75e8b0668832",
   "metadata": {},
   "source": [
    "## Data Preprocessing"
   ]
  },
  {
   "cell_type": "markdown",
   "id": "fe0266bc-bdca-45c0-bf51-9615ccd37a50",
   "metadata": {},
   "source": [
    "#### Drop missing rows with values"
   ]
  },
  {
   "cell_type": "code",
   "execution_count": null,
   "id": "5910a760-0d73-499d-8db9-ddcb0fa643d2",
   "metadata": {},
   "outputs": [],
   "source": [
    "data = data.dropna()"
   ]
  },
  {
   "cell_type": "markdown",
   "id": "3b0257e2-fbac-4b4c-bc17-4b97ea71d36b",
   "metadata": {
    "tags": []
   },
   "source": [
    "#### Divide data into features and labels"
   ]
  },
  {
   "cell_type": "code",
   "execution_count": null,
   "id": "8bf2a9e7-a2e8-479a-9daf-83c42ccb4363",
   "metadata": {},
   "outputs": [],
   "source": [
    "X = data.iloc[:,0:-1]\n",
    "y = data.iloc[:,-1]"
   ]
  },
  {
   "cell_type": "markdown",
   "id": "0d5c0270-b1e9-4582-9429-d887ff7a14ef",
   "metadata": {},
   "source": [
    "#### (Optional) if categorical data eg in 5th column"
   ]
  },
  {
   "cell_type": "code",
   "execution_count": null,
   "id": "7c3af5d7-ee2d-4d5b-9545-c07e4858a64e",
   "metadata": {},
   "outputs": [],
   "source": [
    "X = pd.get_dummies(X.iloc[:,4], prefix='my_categorical_data')\n",
    "X = pd.concat([X,cat_data],axis=1)\n",
    "X = X.drop(X.columns[4], axis=1)"
   ]
  },
  {
   "cell_type": "markdown",
   "id": "7d880405-c643-416c-b330-c8b9c395a24f",
   "metadata": {},
   "source": [
    "#### Scale numerical data"
   ]
  },
  {
   "cell_type": "code",
   "execution_count": null,
   "id": "189c3c13-cf42-4b4b-9887-9763788e5529",
   "metadata": {},
   "outputs": [],
   "source": [
    "from sklearn.preprocessing import StandardScaler\n",
    "scaler = StandardScaler()\n",
    "X = scaler.fit_transform(X)"
   ]
  },
  {
   "cell_type": "markdown",
   "id": "ae1d7651-f1da-4383-bc98-69a36b906513",
   "metadata": {},
   "source": [
    "#### Train Test Split"
   ]
  },
  {
   "cell_type": "code",
   "execution_count": null,
   "id": "4c63473d-6dbc-4cef-89e6-9319c6358b33",
   "metadata": {},
   "outputs": [],
   "source": [
    "X_train, X_test, y_train, y_test = train_test_split(X, y, test_size=0.2, random_state=0)"
   ]
  },
  {
   "cell_type": "markdown",
   "id": "ae9c00e2-05ad-48f5-b4bc-a15e46e78f98",
   "metadata": {
    "tags": []
   },
   "source": [
    "## Model Initialization"
   ]
  },
  {
   "cell_type": "code",
   "execution_count": null,
   "id": "d860aac5-93be-49b8-b928-e7b234bab24b",
   "metadata": {},
   "outputs": [],
   "source": [
    "model = LinearRegression()\n",
    "model.fit(X_train, y_train)"
   ]
  },
  {
   "cell_type": "markdown",
   "id": "477ab6e5-d1e7-49a5-b643-7cc38af08461",
   "metadata": {},
   "source": [
    "## Model Evaluation"
   ]
  },
  {
   "cell_type": "markdown",
   "id": "e126884c-31ac-4731-b167-f6de0ba7a12c",
   "metadata": {},
   "source": [
    "#### Recommended for regression model"
   ]
  },
  {
   "cell_type": "code",
   "execution_count": null,
   "id": "a0f1b749-a883-4d45-9b4f-4ceb35896d72",
   "metadata": {},
   "outputs": [],
   "source": [
    "from sklearn import metrics\n",
    "\n",
    "y_pred = model.predict(X_test)\n",
    "mse = metrics.mean_squared_error(y_test, y_pred)\n",
    "r2 = metrics.r2_score(y_test, y_pred)\n",
    "acc = metrics.accuracy_score(y_test, y_pred)\n",
    "\n",
    "print('MSE':,mse,'\\n')\n",
    "print('r2 score':,r2,'\\n')\n",
    "print('Accuracy':,acc*100,'\\n')"
   ]
  },
  {
   "cell_type": "markdown",
   "id": "5366bdab-24d8-47f0-a012-54dd62557754",
   "metadata": {},
   "source": [
    "#### Recommended for classification model"
   ]
  },
  {
   "cell_type": "code",
   "execution_count": null,
   "id": "5ecabc60-897d-4314-bb9e-2a3ec7b7d0cb",
   "metadata": {},
   "outputs": [],
   "source": [
    "clf_report = metrics.classification_report(y_test, predictions)\n",
    "print('Classification Report', clf_report)\n",
    "acc = metrics.accuracy_score(y_test, y_pred)\n",
    "print('Accuracy':,acc*100,'\\n')"
   ]
  },
  {
   "cell_type": "markdown",
   "id": "1f39cc5f-fcfa-4ab3-95da-a4b566d48c20",
   "metadata": {},
   "source": [
    "## (Optionally) Hypertunnig the parameters by GridSearch"
   ]
  },
  {
   "cell_type": "code",
   "execution_count": null,
   "id": "c2aeb34a-2127-46f9-a6e4-b0aef51308da",
   "metadata": {},
   "outputs": [],
   "source": [
    "from sklearn.model_selection import GridSearchCV\n",
    "\n",
    "params = {'alpha':[1,10,100,1000]}\n",
    "grid = GridSearchCV(model, param_grid=params, cv=5)\n",
    "grid.fit(X_train, y_train)\n",
    "best_model = grid.best_estimator_"
   ]
  }
 ],
 "metadata": {
  "kernelspec": {
   "display_name": "Python 3 (ipykernel)",
   "language": "python",
   "name": "python3"
  },
  "language_info": {
   "codemirror_mode": {
    "name": "ipython",
    "version": 3
   },
   "file_extension": ".py",
   "mimetype": "text/x-python",
   "name": "python",
   "nbconvert_exporter": "python",
   "pygments_lexer": "ipython3",
   "version": "3.10.10"
  }
 },
 "nbformat": 4,
 "nbformat_minor": 5
}
