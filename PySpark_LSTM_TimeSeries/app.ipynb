{
 "cells": [
  {
   "cell_type": "markdown",
   "id": "4ec2b6b8-bc28-403d-86c0-8b97a2b7bc1e",
   "metadata": {},
   "source": [
    "## Import Libraries"
   ]
  },
  {
   "cell_type": "code",
   "execution_count": null,
   "id": "7b07a573-9bb6-4ae0-9115-b544a9a37ca1",
   "metadata": {},
   "outputs": [],
   "source": [
    "from pyspark.sql import SparkSession\n",
    "from pyspark.ml.feature import VectorAssembler\n",
    "from pyspark.ml.regression import LinearRegression\n",
    "from pyspark.ml.evaluation import RegressionEvaluator\n",
    "from pyspark.ml import Pipeline\n",
    "from pyspark.ml.tuning import ParamGridBuilder, CrossValidator\n",
    "from pyspark.ml.regression import LSTM"
   ]
  },
  {
   "cell_type": "markdown",
   "id": "89445021-7d69-411b-9513-d6fb7ce8a5b7",
   "metadata": {
    "tags": []
   },
   "source": [
    "## PySpark Session"
   ]
  },
  {
   "cell_type": "code",
   "execution_count": null,
   "id": "bfc1328c-5df0-42fb-95bf-8464a3d47bf8",
   "metadata": {},
   "outputs": [],
   "source": [
    "spark = SparkSession.builder.appName(\"SparkApp\").getOrCreate()"
   ]
  },
  {
   "cell_type": "markdown",
   "id": "52c5abae-1b50-4cfe-bb99-2175b1fc70c0",
   "metadata": {
    "tags": []
   },
   "source": [
    "## Load data"
   ]
  },
  {
   "cell_type": "code",
   "execution_count": null,
   "id": "6a66312b-3226-4ea8-8201-6162c5b28e03",
   "metadata": {},
   "outputs": [],
   "source": [
    "data = spark.read.format(\"csv\").option(\"header\", \"true\").load(\"my_file.csv\")"
   ]
  },
  {
   "cell_type": "markdown",
   "id": "b8d46e8f-599f-47b9-a49c-ec1a5ea87150",
   "metadata": {
    "tags": []
   },
   "source": [
    "## Create feature vector [f1, f2, f3] as input of model"
   ]
  },
  {
   "cell_type": "code",
   "execution_count": null,
   "id": "409d41fa-f20d-4fb5-8b83-e93141e58481",
   "metadata": {},
   "outputs": [],
   "source": [
    "featureColumns = [\"f1\", \"f2\", \"f3\"]\n",
    "assembler = VectorAssembler(inputCols=featureColumns, outputCol=\"features\")\n",
    "data = assembler.transform(data)"
   ]
  },
  {
   "cell_type": "markdown",
   "id": "211b7fe6-41e4-493a-b880-a07a2cb1a503",
   "metadata": {},
   "source": [
    "## Split data into train and test"
   ]
  },
  {
   "cell_type": "code",
   "execution_count": null,
   "id": "117f4b24-16e3-43a3-837a-03ce9d1365cd",
   "metadata": {},
   "outputs": [],
   "source": [
    "(trainingData, testData) = data.randomSplit([0.8, 0.2])"
   ]
  },
  {
   "cell_type": "markdown",
   "id": "be211ea4-d232-460e-b4ee-25b67cb1a4a8",
   "metadata": {
    "tags": []
   },
   "source": [
    "## Model Initialization "
   ]
  },
  {
   "cell_type": "code",
   "execution_count": null,
   "id": "77dbae4d-fd9a-49f8-af6c-98257633ce00",
   "metadata": {},
   "outputs": [],
   "source": [
    "lstm = LSTM(featuresCol=\"features\", labelCol=\"target\", predictionCol=\"prediction\",\n",
    "maxIter=100, blockSize=64, stepSize=0.1, seed=0)"
   ]
  },
  {
   "cell_type": "markdown",
   "id": "ab1fe710-e638-418a-a171-782f80e7ef9c",
   "metadata": {},
   "source": [
    "## Create parameter grid for hyperparameter tuning"
   ]
  },
  {
   "cell_type": "code",
   "execution_count": null,
   "id": "fdd993ea-b5ca-41a7-8946-3e44e88a7d0d",
   "metadata": {},
   "outputs": [],
   "source": [
    "paramGrid = ParamGridBuilder()\n",
    ".addGrid(lstm.maxIter, [100, 200])\n",
    ".addGrid(lstm.blockSize, [64, 128])\n",
    ".addGrid(lstm.stepSize, [0.1, 0.01]).build()"
   ]
  },
  {
   "cell_type": "markdown",
   "id": "9c4bc28c-8df2-42ad-98c6-7e20d338c545",
   "metadata": {},
   "source": [
    "## Create evluator for regression performance"
   ]
  },
  {
   "cell_type": "code",
   "execution_count": null,
   "id": "eb136888-db55-4b71-9fce-7904d2fbdff8",
   "metadata": {},
   "outputs": [],
   "source": [
    "evaluator = RegressionEvaluator(labelCol=\"target\", metricName=\"rmse\")"
   ]
  },
  {
   "cell_type": "markdown",
   "id": "c8b021b5-3c4f-4d94-a094-d7a81f7b60a1",
   "metadata": {},
   "source": [
    "## Create cross-validation model "
   ]
  },
  {
   "cell_type": "code",
   "execution_count": null,
   "id": "f73b75c9-2d23-4423-b090-8b497ad8286b",
   "metadata": {},
   "outputs": [],
   "source": [
    "crossValidator = CrossValidator(estimator=lstm, estimatorParamMaps=paramGrid, evaluator=evaluator)"
   ]
  },
  {
   "cell_type": "code",
   "execution_count": null,
   "id": "c8987b56-9a3f-40db-81f4-47a9cb948b2c",
   "metadata": {},
   "outputs": [],
   "source": [
    "## "
   ]
  }
 ],
 "metadata": {
  "kernelspec": {
   "display_name": "Python 3 (ipykernel)",
   "language": "python",
   "name": "python3"
  },
  "language_info": {
   "codemirror_mode": {
    "name": "ipython",
    "version": 3
   },
   "file_extension": ".py",
   "mimetype": "text/x-python",
   "name": "python",
   "nbconvert_exporter": "python",
   "pygments_lexer": "ipython3",
   "version": "3.10.10"
  }
 },
 "nbformat": 4,
 "nbformat_minor": 5
}
