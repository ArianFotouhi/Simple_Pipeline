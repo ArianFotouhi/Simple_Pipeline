{
 "cells": [
  {
   "cell_type": "markdown",
   "id": "4ec2b6b8-bc28-403d-86c0-8b97a2b7bc1e",
   "metadata": {},
   "source": [
    "## Import Libraries"
   ]
  },
  {
   "cell_type": "code",
   "execution_count": null,
   "id": "7b07a573-9bb6-4ae0-9115-b544a9a37ca1",
   "metadata": {},
   "outputs": [],
   "source": [
    "from pyspark.sql import SparkSession\n",
    "from pyspark.ml.feature import VectorAssembler\n",
    "from pyspark.ml.regression import LinearRegression\n",
    "from pyspark.ml.evaluation import RegressionEvaluator\n",
    "from pyspark.ml import Pipeline\n",
    "from pyspark.ml.tuning import ParamGridBuilder, CrossValidator\n",
    "from pyspark.ml.regression import LSTM"
   ]
  },
  {
   "cell_type": "markdown",
   "id": "89445021-7d69-411b-9513-d6fb7ce8a5b7",
   "metadata": {
    "tags": []
   },
   "source": [
    "## PySpark Session"
   ]
  },
  {
   "cell_type": "code",
   "execution_count": null,
   "id": "bfc1328c-5df0-42fb-95bf-8464a3d47bf8",
   "metadata": {},
   "outputs": [],
   "source": [
    "spark = SparkSession.builder.appName(\"SparkApp\").getOrCreate()"
   ]
  },
  {
   "cell_type": "markdown",
   "id": "52c5abae-1b50-4cfe-bb99-2175b1fc70c0",
   "metadata": {
    "tags": []
   },
   "source": [
    "## Load data"
   ]
  },
  {
   "cell_type": "code",
   "execution_count": null,
   "id": "6a66312b-3226-4ea8-8201-6162c5b28e03",
   "metadata": {},
   "outputs": [],
   "source": [
    "data = spark.read.format(\"csv\").option(\"header\", \"true\").load(\"my_file.csv\")"
   ]
  },
  {
   "cell_type": "markdown",
   "id": "b8d46e8f-599f-47b9-a49c-ec1a5ea87150",
   "metadata": {
    "tags": []
   },
   "source": [
    "## Create feature vector [f1, f2, f3] as input of model"
   ]
  },
  {
   "cell_type": "code",
   "execution_count": null,
   "id": "409d41fa-f20d-4fb5-8b83-e93141e58481",
   "metadata": {},
   "outputs": [],
   "source": [
    "featureColumns = [\"f1\", \"f2\", \"f3\"]\n",
    "assembler = VectorAssembler(inputCols=featureColumns, outputCol=\"features\")\n",
    "data = assembler.transform(data)"
   ]
  },
  {
   "cell_type": "code",
   "execution_count": null,
   "id": "dd3de031-c9be-48d8-8265-57783c1db9b1",
   "metadata": {},
   "outputs": [],
   "source": []
  }
 ],
 "metadata": {
  "kernelspec": {
   "display_name": "Python 3 (ipykernel)",
   "language": "python",
   "name": "python3"
  },
  "language_info": {
   "codemirror_mode": {
    "name": "ipython",
    "version": 3
   },
   "file_extension": ".py",
   "mimetype": "text/x-python",
   "name": "python",
   "nbconvert_exporter": "python",
   "pygments_lexer": "ipython3",
   "version": "3.10.10"
  }
 },
 "nbformat": 4,
 "nbformat_minor": 5
}
